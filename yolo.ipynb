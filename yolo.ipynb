{
 "cells": [
  {
   "cell_type": "code",
   "execution_count": null,
   "metadata": {},
   "outputs": [],
   "source": [
    "# Training\n",
    "\n",
    "from ultralytics import YOLO\n",
    "\n",
    "model = YOLO('./model/yolo.pt') \n",
    "\n",
    "results = model.train(\n",
    "    data='./data/yolo/dataset.yaml', \n",
    "    epochs=100,           \n",
    "    imgsz=500,\n",
    "    batch=16,                \n",
    "    patience=50,    \n",
    "    device=0,  \n",
    ")\n",
    "\n",
    "metrics = model.val()\n",
    "\n",
    "model.export(format='onnx')  # Exportiere in ONNX-Format"
   ]
  },
  {
   "cell_type": "code",
   "execution_count": null,
   "metadata": {},
   "outputs": [],
   "source": [
    "# Visualization of model\n",
    "\n",
    "img = \"./data/segments/testing/front_floor_01_partial_room_17_pano_57.jpg\" # validation image\n",
    "\n",
    "results = model([img]) \n",
    "\n",
    "for result in results:\n",
    "    boxes = result.boxes \n",
    "    masks = result.masks\n",
    "    keypoints = result.keypoints \n",
    "    probs = result.probs \n",
    "    obb = result.obb\n",
    "    result.show()"
   ]
  }
 ],
 "metadata": {
  "kernelspec": {
   "display_name": "Python 3",
   "language": "python",
   "name": "python3"
  },
  "language_info": {
   "codemirror_mode": {
    "name": "ipython",
    "version": 3
   },
   "file_extension": ".py",
   "mimetype": "text/x-python",
   "name": "python",
   "nbconvert_exporter": "python",
   "pygments_lexer": "ipython3",
   "version": "3.12.8"
  }
 },
 "nbformat": 4,
 "nbformat_minor": 2
}
